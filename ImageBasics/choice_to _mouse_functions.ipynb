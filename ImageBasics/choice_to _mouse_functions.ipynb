{
 "cells": [
  {
   "cell_type": "code",
   "execution_count": 2,
   "metadata": {},
   "outputs": [],
   "source": [
    "import cv2\n",
    "import numpy as np\n",
    "\n",
    "#Function\n",
    "# x, y, flags, param are feed from OpenCV automatically\n",
    "\n",
    "def draw_circle(event, x, y, flags, param):\n",
    "    # left button down\n",
    "    if event == cv2.EVENT_LBUTTONDOWN:\n",
    "        cv2.circle(img, (x,y),\n",
    "                   radius = 100,\n",
    "                   color = (75, 131, 251),\n",
    "                   thickness = -1)\n",
    "    # right button down\n",
    "    elif event == cv2.EVENT_RBUTTONDOWN:\n",
    "        cv2.circle(img, (x,y),\n",
    "                   radius = 50,\n",
    "                   color = (251, 75, 131),\n",
    "                   thickness = -1)\n",
    "\n",
    "# connect the function with a callback\n",
    "\n",
    "cv2.namedWindow(winname='my_art')\n",
    "\n",
    "# callback\n",
    "\n",
    "cv2.setMouseCallback('my_art', draw_circle)\n",
    "\n",
    "# Using OpenCV to show the image\n",
    "img = np.zeros((512, 512, 3), np.int8)\n",
    "\n",
    "while True:\n",
    "    cv2.imshow('my_art', img)\n",
    "    \n",
    "    if cv2.waitKey(5) & 0xFF == ord('q'): # quit when q is pressed\n",
    "        break\n",
    "cv2.destroyAllWindows()"
   ]
  },
  {
   "cell_type": "code",
   "execution_count": null,
   "metadata": {},
   "outputs": [],
   "source": []
  }
 ],
 "metadata": {
  "kernelspec": {
   "display_name": "Python 3",
   "language": "python",
   "name": "python3"
  },
  "language_info": {
   "codemirror_mode": {
    "name": "ipython",
    "version": 3
   },
   "file_extension": ".py",
   "mimetype": "text/x-python",
   "name": "python",
   "nbconvert_exporter": "python",
   "pygments_lexer": "ipython3",
   "version": "3.6.4"
  }
 },
 "nbformat": 4,
 "nbformat_minor": 2
}
