{
 "cells": [
  {
   "cell_type": "code",
   "execution_count": null,
   "metadata": {},
   "outputs": [],
   "source": [
    "# Import Libraries\n",
    "\n",
    "\n",
    "\n",
    "# Take a video. 0 means the camera of my computer\n",
    "\n",
    "\n",
    "\n",
    "# Get the Width and Height of the Video Frame\n",
    "\n",
    "\n",
    "\n",
    "# Top Left Corner\n",
    "# We devide with // the Width and Height of the Frame\n",
    "# in order to get an Integer as a Result\n",
    "\n",
    "\n",
    "# Rectangle Width and Height\n",
    "# 1/4 of the Actual Video Screen\n",
    "\n",
    "\n",
    "\n",
    "# Bottom Right Corner == x + w, y + h\n",
    "\n",
    "\n",
    "\n",
    "# It's a kind of Magic!\n",
    "\n",
    "\n",
    "    # Rectangle Frame\n",
    "    \n",
    "    \n",
    "    # Show it\n",
    "    \n",
    "    \n",
    "    # 27 == esc button. You can use any other button like ord('q')\n",
    "    # If you try to close the window pressing the x you'll get in trouble (^_^)\n",
    "    \n",
    "    \n",
    "    \n",
    "# Never forget first to release\n",
    "# And then to destroy\n",
    "\n",
    "\n"
   ]
  },
  {
   "cell_type": "code",
   "execution_count": null,
   "metadata": {},
   "outputs": [],
   "source": []
  }
 ],
 "metadata": {
  "kernelspec": {
   "display_name": "Python 3",
   "language": "python",
   "name": "python3"
  },
  "language_info": {
   "codemirror_mode": {
    "name": "ipython",
    "version": 3
   },
   "file_extension": ".py",
   "mimetype": "text/x-python",
   "name": "python",
   "nbconvert_exporter": "python",
   "pygments_lexer": "ipython3",
   "version": "3.7.4"
  }
 },
 "nbformat": 4,
 "nbformat_minor": 4
}
