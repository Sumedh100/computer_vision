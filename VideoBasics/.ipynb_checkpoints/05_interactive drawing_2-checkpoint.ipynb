{
 "cells": [
  {
   "cell_type": "code",
   "execution_count": null,
   "metadata": {},
   "outputs": [],
   "source": [
    "# Import Library\n",
    "\n",
    "\n",
    "# Callback Function for the Mouse, Circle\n",
    "\n",
    "\n",
    "\n",
    "    # Get the Mouse Click Down & Up\n",
    "    # and Track the Center\n",
    "    \n",
    "    \n",
    "    \n",
    "    \n",
    "    \n",
    "# Zero Drawing of the Circle\n",
    "\n",
    "\n",
    "\n",
    "# Take a video\n",
    "\n",
    "\n",
    "\n",
    "# Create a Named Window for the Connections\n",
    "\n",
    "\n",
    "# Bind our Function with the Mouse Clicks\n",
    "\n",
    "\n",
    "\n",
    "# Time for Magic\n",
    "\n",
    "    \n",
    "    \n",
    "    # Capture the frame\n",
    "    \n",
    "    \n",
    "    # Check if Clicked is True\n",
    "    \n",
    "    \n",
    "        # Draw a Circle on the Frame\n",
    "        \n",
    "        \n",
    "    # Display the Frame\n",
    "    \n",
    "    \n",
    "    # 27 == esc button. You can use any other button like ord('q')\n",
    "    # If you try to close the window pressing the x you'll get in trouble (^_^)\n",
    "    \n",
    "    \n",
    "    \n",
    "# Never forget first to release\n",
    "# And then to destroy   \n",
    "\n",
    "\n",
    "\n"
   ]
  }
 ],
 "metadata": {
  "kernelspec": {
   "display_name": "Python 3",
   "language": "python",
   "name": "python3"
  },
  "language_info": {
   "codemirror_mode": {
    "name": "ipython",
    "version": 3
   },
   "file_extension": ".py",
   "mimetype": "text/x-python",
   "name": "python",
   "nbconvert_exporter": "python",
   "pygments_lexer": "ipython3",
   "version": "3.7.4"
  }
 },
 "nbformat": 4,
 "nbformat_minor": 4
}
