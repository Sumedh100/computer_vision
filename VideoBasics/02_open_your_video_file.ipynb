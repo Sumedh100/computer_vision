{
 "cells": [
  {
   "cell_type": "code",
   "execution_count": null,
   "metadata": {},
   "outputs": [],
   "source": [
    "# Import Libraries\n",
    "\n",
    "\n",
    "\n",
    "# Open the video from the previous lesson\n",
    "\n",
    "\n",
    "\n",
    "\n",
    "# In case we wrote the path wrong\n",
    "\n",
    "\n",
    "\n",
    "\n",
    "# Some Magic!\n",
    "\n",
    "\n",
    "    # We wrote it with 20 FPS on the previous lesson\n",
    "    # So, we need a delay of 1/20 if we want to see it\n",
    "    # Uncomment the line below if you want to see it\n",
    "    # time.sleep(1/20)\n",
    "    \n",
    "    \n",
    "    # Show it\n",
    "    \n",
    "    \n",
    "    # 27 == esc button. You can use any other button like ord('q')\n",
    "    # If you try to close the window pressing the x you'll get in trouble (^_^)\n",
    "    \n",
    "    \n",
    "    \n",
    "# Never forget first to release\n",
    "# And then to destroy\n",
    "\n",
    "\n"
   ]
  }
 ],
 "metadata": {
  "kernelspec": {
   "display_name": "Python 3",
   "language": "python",
   "name": "python3"
  },
  "language_info": {
   "codemirror_mode": {
    "name": "ipython",
    "version": 3
   },
   "file_extension": ".py",
   "mimetype": "text/x-python",
   "name": "python",
   "nbconvert_exporter": "python",
   "pygments_lexer": "ipython3",
   "version": "3.7.4"
  }
 },
 "nbformat": 4,
 "nbformat_minor": 4
}
